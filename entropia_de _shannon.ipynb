{
 "cells": [
  {
   "cell_type": "markdown",
   "metadata": {},
   "source": [
    "# Entropia de Shannon"
   ]
  },
  {
   "cell_type": "markdown",
   "metadata": {},
   "source": [
    "### Bibliotecas"
   ]
  },
  {
   "cell_type": "code",
   "execution_count": 1,
   "metadata": {},
   "outputs": [],
   "source": [
    "import random\n",
    "import pandas as pd\n",
    "import matplotlib.pyplot as plt\n",
    "import numpy as np\n",
    "import math\n",
    "import matplotlib"
   ]
  },
  {
   "cell_type": "code",
   "execution_count": 2,
   "metadata": {},
   "outputs": [
    {
     "name": "stdout",
     "output_type": "stream",
     "text": [
      "Numpy 1.18.1\n",
      "Pandas 0.22.0\n",
      "Matplotlib 3.3.0\n"
     ]
    }
   ],
   "source": [
    "#Versiones\n",
    "\n",
    "print(\"Numpy\",np.version.version)\n",
    "print(\"Pandas\",pd.__version__)\n",
    "print(\"Matplotlib\",matplotlib.__version__)"
   ]
  },
  {
   "cell_type": "markdown",
   "metadata": {},
   "source": [
    "---"
   ]
  },
  {
   "cell_type": "markdown",
   "metadata": {},
   "source": [
    "### Funciones"
   ]
  },
  {
   "cell_type": "markdown",
   "metadata": {},
   "source": [
    "##### Divisor de haz"
   ]
  },
  {
   "cell_type": "code",
   "execution_count": 3,
   "metadata": {},
   "outputs": [],
   "source": [
    "# Genera una lista aleatoria de ceros y unos, a partir de un criterio de probabilidad. \n",
    "# n es la cantidad de valores de la lista.\n",
    "# porcentaje es el pocentaje de fotones transmitidos, por defecto, es un divisor 50:50.\n",
    "\n",
    "def dh(n,porcentaje=50):\n",
    "    \n",
    "    serie= []\n",
    "\n",
    "    for i in range(n):\n",
    "        r=random.random()\n",
    "        if r>(porcentaje/100):\n",
    "            serie.append(1)\n",
    "\n",
    "        else:\n",
    "            serie.append(0)\n",
    "    return serie"
   ]
  },
  {
   "cell_type": "markdown",
   "metadata": {},
   "source": [
    "##### Entropía de Shannon"
   ]
  },
  {
   "cell_type": "markdown",
   "metadata": {},
   "source": [
    "La entropía de Shannon se define como:\n",
    "\n",
    "$H=-p_{1} \\log _{2}\\left(p_{1}\\right)-p_{2} \\log _{2}\\left(p_{2}\\right)-\\ldots-p_{k} \\log _{2}\\left(p_{k}\\right)=-\\sum_{i=1}^{k} p_{i} \\log _{2}\\left(p_{i}\\right)$\n",
    "\n",
    "https://en.wikipedia.org/wiki/Entropy_(information_theory)"
   ]
  },
  {
   "cell_type": "code",
   "execution_count": 4,
   "metadata": {},
   "outputs": [],
   "source": [
    "#La función devuelve el valor de la entropía de Shannon para una probabilidad dada. \n",
    "#p es la probabilidad de que ocurra un evento.\n",
    "\n",
    "def shannon(p):\n",
    "    p0=1-p\n",
    "    \n",
    "    if p==1:\n",
    "        p=1-0.0000000000000001 #Esto evita problemas en el cálculo cuando p1=1 y p0=0\n",
    "        p0=1-p\n",
    "        H= - p*math.log(p,2) - p0*math.log(p0,2)\n",
    "    else:\n",
    "        H= - p*math.log(p,2) - p0*math.log(p0,2)\n",
    "    return H"
   ]
  },
  {
   "cell_type": "code",
   "execution_count": 5,
   "metadata": {},
   "outputs": [],
   "source": [
    "#La función toma dos listas con el mismo número de elementos, entonces, calcula el valor absoluto de la diferencia,\n",
    "#elemento a elemento de ambas listas. Se devuleve el resultado de promediar los valores absolutos.\n",
    "\n",
    "\n",
    "def error_promedio(teorico, experimental):\n",
    "\n",
    "    diff=[x1 - x2 for (x1, x2) in zip(teorico, experimental)] #Calcula la diferencia de las listas\n",
    "    absolutos = list(map(abs, diff )) #Calcula el valor absoluto de cada elemento\n",
    "    error_promedio=sum(absolutos)/len(absolutos)\n",
    "    return error_promedio"
   ]
  },
  {
   "cell_type": "markdown",
   "metadata": {},
   "source": [
    "---"
   ]
  },
  {
   "cell_type": "markdown",
   "metadata": {},
   "source": [
    "### Gráfica teórica"
   ]
  },
  {
   "cell_type": "code",
   "execution_count": 6,
   "metadata": {},
   "outputs": [],
   "source": [
    "# Generamos una lista de valores aleatorios entre 0 y 1. Estos formarán una lista de probabilidades aleatorias. \n",
    "# La cantidad de valores debe ser igual a la cantidad de experimentos realizados, para poder calcular\n",
    "# el error promedio. \n",
    "\n",
    "p1s=[]\n",
    "for i in range (100):\n",
    "    r=random.random()\n",
    "    p1s.append(r)\n",
    "p1s.sort()"
   ]
  },
  {
   "cell_type": "code",
   "execution_count": 7,
   "metadata": {},
   "outputs": [],
   "source": [
    "#Se produce una lista con las entropias de Shannon calculadas para cada probabilidad.\n",
    "\n",
    "Hs=[]\n",
    "for i in range (len(p1s)):\n",
    "    Hs.append(shannon(p1s[i]))"
   ]
  },
  {
   "cell_type": "code",
   "execution_count": 8,
   "metadata": {},
   "outputs": [
    {
     "data": {
      "image/png": "[encoded data removed]",
      "text/plain": [
       "<Figure size 432x288 with 1 Axes>"
      ]
     },
     "metadata": {},
     "output_type": "display_data"
    }
   ],
   "source": [
    "plt.plot(p1s,Hs,label=\"Shannon\", linestyle='-')\n",
    "\n",
    "plt.xlabel(\"$P_1$\")\n",
    "plt.ylabel(\"H\")\n",
    "\n",
    "plt.legend(loc=0)\n",
    "plt.grid()\n",
    "plt.savefig(\"teo_es.png\")\n",
    "\n",
    "plt.show()"
   ]
  },
  {
   "cell_type": "markdown",
   "metadata": {},
   "source": [
    "### Experimento"
   ]
  },
  {
   "cell_type": "code",
   "execution_count": 9,
   "metadata": {},
   "outputs": [],
   "source": [
    "\n",
    "#repeticiones del experimento:\n",
    "experimentos=100\n",
    "\n",
    "#Número de fotones\n",
    "fotones=1000\n",
    "\n",
    "prob=[]\n",
    "for i in range(experimentos): #Generamos una lista con diferentes probabilidades.\n",
    "\n",
    "    ran=random.randint(0, 100)\n",
    "    prob.append(ran)\n",
    "\n",
    "    \n",
    "entropias=[]\n",
    "probabilidades=[]\n",
    "for i in range(experimentos):\n",
    "\n",
    "    #Generamos una lista con fotones transmitidos:\n",
    "\n",
    "    serie1=dh(fotones,prob[i]) # Aplicamos la función del divisor de haz a para cada probabilidad.\n",
    "\n",
    "    #Calculamos la probabilidad de que un fotón sea transmitido:\n",
    "\n",
    "    probabilidad=serie1.count(1)/len(serie1)\n",
    "    probabilidades.append(probabilidad)\n",
    "    \n",
    "    #Calculamos la entropía de Shannon para la la probabilidad que obtuvimos.\n",
    "\n",
    "    entropias.append(shannon(probabilidad))"
   ]
  },
  {
   "cell_type": "code",
   "execution_count": 10,
   "metadata": {},
   "outputs": [
    {
     "data": {
      "image/png": "[encoded data removed]",
      "text/plain": [
       "<Figure size 432x288 with 1 Axes>"
      ]
     },
     "metadata": {},
     "output_type": "display_data"
    }
   ],
   "source": [
    "plt.plot(probabilidades,entropias,\"ro\",label=\"Experimento\")\n",
    "\n",
    "\n",
    "plt.xlabel(\"$P_1$\")\n",
    "plt.ylabel(\"H\")\n",
    "\n",
    "plt.legend(loc=0)\n",
    "plt.grid()\n",
    "plt.savefig(\"exp_es.png\")\n",
    "\n",
    "plt.show()"
   ]
  },
  {
   "cell_type": "markdown",
   "metadata": {},
   "source": [
    "---"
   ]
  },
  {
   "cell_type": "markdown",
   "metadata": {},
   "source": [
    "### Comparación de resultados"
   ]
  },
  {
   "cell_type": "code",
   "execution_count": 11,
   "metadata": {},
   "outputs": [
    {
     "data": {
      "image/png": "[encoded data removed]",
      "text/plain": [
       "<Figure size 432x288 with 1 Axes>"
      ]
     },
     "metadata": {},
     "output_type": "display_data"
    }
   ],
   "source": [
    "plt.plot(probabilidades,entropias,\"ro\",label=\"Experimento\")\n",
    "plt.plot(p1s,Hs,label=\"Shannon\", linestyle='-')\n",
    "\n",
    "\n",
    "plt.xlabel(\"$P_1$\")\n",
    "plt.ylabel(\"H\")\n",
    "\n",
    "plt.legend(loc=1)\n",
    "plt.grid()\n",
    "plt.savefig(\"entropia_shannon.png\")\n",
    "\n",
    "plt.show()"
   ]
  },
  {
   "cell_type": "markdown",
   "metadata": {},
   "source": [
    "### Estadística"
   ]
  },
  {
   "cell_type": "code",
   "execution_count": 12,
   "metadata": {},
   "outputs": [
    {
     "data": {
      "text/plain": [
       "0.33874977764105446"
      ]
     },
     "execution_count": 12,
     "metadata": {},
     "output_type": "execute_result"
    }
   ],
   "source": [
    "#Error promedio\n",
    "error_promedio(p1s,probabilidades)"
   ]
  },
  {
   "cell_type": "code",
   "execution_count": 13,
   "metadata": {},
   "outputs": [
    {
     "data": {
      "text/plain": [
       "0.27348707538017225"
      ]
     },
     "execution_count": 13,
     "metadata": {},
     "output_type": "execute_result"
    }
   ],
   "source": [
    "#Desviación estándar\n",
    "ds=np.std(probabilidades)\n",
    "ds"
   ]
  },
  {
   "cell_type": "code",
   "execution_count": 14,
   "metadata": {},
   "outputs": [
    {
     "data": {
      "text/plain": [
       "0.07479518040000001"
      ]
     },
     "execution_count": 14,
     "metadata": {},
     "output_type": "execute_result"
    }
   ],
   "source": [
    "#varianza\n",
    "varianza=np.var(probabilidades)\n",
    "varianza"
   ]
  },
  {
   "cell_type": "code",
   "execution_count": 15,
   "metadata": {},
   "outputs": [],
   "source": [
    "#Promedio\n",
    "promedio=np.mean(probabilidades)"
   ]
  },
  {
   "cell_type": "code",
   "execution_count": 16,
   "metadata": {},
   "outputs": [
    {
     "data": {
      "text/html": [
       "<div>\n",
       "<style scoped>\n",
       "    .dataframe tbody tr th:only-of-type {\n",
       "        vertical-align: middle;\n",
       "    }\n",
       "\n",
       "    .dataframe tbody tr th {\n",
       "        vertical-align: top;\n",
       "    }\n",
       "\n",
       "    .dataframe thead th {\n",
       "        text-align: right;\n",
       "    }\n",
       "</style>\n",
       "<table border=\"1\" class=\"dataframe\">\n",
       "  <thead>\n",
       "    <tr style=\"text-align: right;\">\n",
       "      <th></th>\n",
       "      <th>Datos</th>\n",
       "      <th>Valor</th>\n",
       "    </tr>\n",
       "  </thead>\n",
       "  <tbody>\n",
       "    <tr>\n",
       "      <th>0</th>\n",
       "      <td>Promedio</td>\n",
       "      <td>0.514140</td>\n",
       "    </tr>\n",
       "    <tr>\n",
       "      <th>1</th>\n",
       "      <td>DS</td>\n",
       "      <td>0.074795</td>\n",
       "    </tr>\n",
       "    <tr>\n",
       "      <th>2</th>\n",
       "      <td>Varianza</td>\n",
       "      <td>0.273487</td>\n",
       "    </tr>\n",
       "    <tr>\n",
       "      <th>3</th>\n",
       "      <td>Error promedio</td>\n",
       "      <td>0.338750</td>\n",
       "    </tr>\n",
       "  </tbody>\n",
       "</table>\n",
       "</div>"
      ],
      "text/plain": [
       "            Datos     Valor\n",
       "0        Promedio  0.514140\n",
       "1              DS  0.074795\n",
       "2        Varianza  0.273487\n",
       "3  Error promedio  0.338750"
      ]
     },
     "execution_count": 16,
     "metadata": {},
     "output_type": "execute_result"
    }
   ],
   "source": [
    "data={\"Datos\":[\"Promedio\",\"DS\",\"Varianza\",\"Error promedio\"], \"Valor\":[promedio,varianza,ds,error_promedio(p1s,probabilidades)]}\n",
    "estadisticos= pd.DataFrame(data) \n",
    "estadisticos.to_csv(\"/home/solaris/Documentos/LFC2/Programas/Programa 4/datos/estadisticos_p2.csv\")\n",
    "estadisticos"
   ]
  },
  {
   "cell_type": "code",
   "execution_count": null,
   "metadata": {},
   "outputs": [],
   "source": []
  }
 ],
 "metadata": {
  "kernelspec": {
   "display_name": "Python 3",
   "language": "python",
   "name": "python3"
  },
  "language_info": {
   "codemirror_mode": {
    "name": "ipython",
    "version": 3
   },
   "file_extension": ".py",
   "mimetype": "text/x-python",
   "name": "python",
   "nbconvert_exporter": "python",
   "pygments_lexer": "ipython3",
   "version": "3.6.9"
  }
 },
 "nbformat": 4,
 "nbformat_minor": 4
}
