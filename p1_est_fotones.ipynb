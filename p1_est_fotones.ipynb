{
 "cells": [
  {
   "cell_type": "markdown",
   "metadata": {},
   "source": [
    "# Estadística de fotones"
   ]
  },
  {
   "cell_type": "markdown",
   "metadata": {},
   "source": [
    "### Bibliotecas"
   ]
  },
  {
   "cell_type": "code",
   "execution_count": 1,
   "metadata": {},
   "outputs": [],
   "source": [
    "import random\n",
    "import pandas as pd\n",
    "import matplotlib.pyplot as plt\n",
    "import numpy as np\n",
    "import math\n",
    "import matplotlib"
   ]
  },
  {
   "cell_type": "code",
   "execution_count": 2,
   "metadata": {},
   "outputs": [
    {
     "name": "stdout",
     "output_type": "stream",
     "text": [
      "Numpy 1.18.1\n",
      "Pandas 0.22.0\n",
      "Matplotlib 3.3.0\n"
     ]
    }
   ],
   "source": [
    "#Versiones\n",
    "\n",
    "print(\"Numpy\",np.version.version)\n",
    "print(\"Pandas\",pd.__version__)\n",
    "print(\"Matplotlib\",matplotlib.__version__)"
   ]
  },
  {
   "cell_type": "markdown",
   "metadata": {},
   "source": [
    "### Parámetros"
   ]
  },
  {
   "cell_type": "code",
   "execution_count": 3,
   "metadata": {},
   "outputs": [],
   "source": [
    "#Número de fotones\n",
    "fotones=100000\n",
    "\n",
    "#Diviciones del tiempo\n",
    "\n",
    "dt=1e7\n",
    "\n",
    "# Probabilidad\n",
    "\n",
    "P=fotones/dt"
   ]
  },
  {
   "cell_type": "markdown",
   "metadata": {},
   "source": [
    "### Serie de tiempo"
   ]
  },
  {
   "cell_type": "code",
   "execution_count": 4,
   "metadata": {},
   "outputs": [],
   "source": [
    "serie1 = []\n",
    "\n",
    "for i in range(int(dt)):\n",
    "    r=random.random()\n",
    "    if r <= P:\n",
    "        serie1.append(1)\n",
    "        \n",
    "    else:\n",
    "        serie1.append(0)"
   ]
  },
  {
   "cell_type": "code",
   "execution_count": 5,
   "metadata": {},
   "outputs": [],
   "source": [
    "#serie1.to_csv(\"/home/solaris/Documentos/LFC2/Programas/Programa 3/Datos/serie1.csv\")"
   ]
  },
  {
   "cell_type": "markdown",
   "metadata": {},
   "source": [
    "### Ajuste de la ventana de tiempo"
   ]
  },
  {
   "cell_type": "code",
   "execution_count": 6,
   "metadata": {},
   "outputs": [],
   "source": [
    "# Ventana de tiempo\n",
    "v=2000"
   ]
  },
  {
   "cell_type": "code",
   "execution_count": 7,
   "metadata": {},
   "outputs": [],
   "source": [
    "arr=np.add.reduceat(serie1, np.arange(0, len(serie1), v))\n",
    "serie2 = arr.tolist()"
   ]
  },
  {
   "cell_type": "code",
   "execution_count": 8,
   "metadata": {},
   "outputs": [],
   "source": [
    "#Serie obtenida con la ventana de tiempo\n",
    "\n",
    "serie2;\n",
    "\n",
    "#serie2.to_csv(\"/home/solaris/Documentos/LFC2/Programas/Programa 3/Datos/serie2.csv\")"
   ]
  },
  {
   "cell_type": "markdown",
   "metadata": {},
   "source": [
    "### Estadística"
   ]
  },
  {
   "cell_type": "code",
   "execution_count": 9,
   "metadata": {},
   "outputs": [
    {
     "data": {
      "text/plain": [
       "20.0236"
      ]
     },
     "execution_count": 9,
     "metadata": {},
     "output_type": "execute_result"
    }
   ],
   "source": [
    "#Promedio de fotones por ventana\n",
    "\n",
    "promedio=np.mean(serie2)\n",
    "promedio"
   ]
  },
  {
   "cell_type": "code",
   "execution_count": 10,
   "metadata": {},
   "outputs": [
    {
     "data": {
      "text/plain": [
       "39"
      ]
     },
     "execution_count": 10,
     "metadata": {},
     "output_type": "execute_result"
    }
   ],
   "source": [
    "#Número máximo (n_max) de fotones por ventana\n",
    "\n",
    "maximo=max(serie2)\n",
    "maximo"
   ]
  },
  {
   "cell_type": "code",
   "execution_count": 11,
   "metadata": {},
   "outputs": [],
   "source": [
    "#casos favorables=frecuencia\n",
    "\n",
    "favorables=[]\n",
    "for i in range(maximo+1): #Sumamos 1 ya que por default python inicia el ciclo desde el 0\n",
    "    f=serie2.count(i)\n",
    "    favorables.append(f)"
   ]
  },
  {
   "cell_type": "code",
   "execution_count": 12,
   "metadata": {},
   "outputs": [],
   "source": [
    "favorables;"
   ]
  },
  {
   "cell_type": "code",
   "execution_count": 13,
   "metadata": {},
   "outputs": [],
   "source": [
    "#Total de casos\n",
    "\n",
    "casos=sum(favorables)"
   ]
  },
  {
   "cell_type": "code",
   "execution_count": 14,
   "metadata": {},
   "outputs": [],
   "source": [
    "#cálculo de la probabilidad de encontrar n fotones por ventana\n",
    "\n",
    "probabilidad=[]\n",
    "for i in range(len(favorables)):\n",
    "    \n",
    "    p=favorables[i]/casos\n",
    "    \n",
    "    probabilidad.append(p)"
   ]
  },
  {
   "cell_type": "code",
   "execution_count": 15,
   "metadata": {},
   "outputs": [],
   "source": [
    "probabilidad;"
   ]
  },
  {
   "cell_type": "code",
   "execution_count": 16,
   "metadata": {},
   "outputs": [
    {
     "data": {
      "text/plain": [
       "1.0"
      ]
     },
     "execution_count": 16,
     "metadata": {},
     "output_type": "execute_result"
    }
   ],
   "source": [
    "#La suma de las probabilidades debe ser igual a 1\n",
    "sum(probabilidad)"
   ]
  },
  {
   "cell_type": "code",
   "execution_count": 17,
   "metadata": {},
   "outputs": [
    {
     "data": {
      "image/png": "[encoded data removed]",
      "text/plain": [
       "<Figure size 432x288 with 1 Axes>"
      ]
     },
     "metadata": {},
     "output_type": "display_data"
    }
   ],
   "source": [
    "plt.plot(probabilidad,\"bo\",label=\"Experimento\", linestyle='-')\n",
    "\n",
    "plt.xlim(0, maximo+3)\n",
    "\n",
    "plt.xlabel(\"n\")\n",
    "plt.ylabel(\"$P_n$\")\n",
    "\n",
    "#plt.title('Ventana de tiempo =%i' %v)\n",
    "plt.legend(loc=0)\n",
    "\n",
    "#plt.text(4.3, 0.3, \"Ventana de tiempo =%i \"%v)\n",
    "\n",
    "plt.grid()\n",
    "plt.show()"
   ]
  },
  {
   "cell_type": "markdown",
   "metadata": {},
   "source": [
    "### Estadística de Poisson"
   ]
  },
  {
   "cell_type": "code",
   "execution_count": 18,
   "metadata": {},
   "outputs": [],
   "source": [
    "n=maximo+1 #limite del eje x\n",
    "poisson=[]\n",
    "\n",
    "for i in  range(n):\n",
    "    \n",
    "    #Usamos el promedio de fotones por ventana (promedio de la serie2)\n",
    "    \n",
    "    Pn=math.exp(-promedio)*pow(promedio,i)*pow(math.factorial(i),-1)\n",
    "\n",
    "    poisson.append(Pn)"
   ]
  },
  {
   "cell_type": "code",
   "execution_count": 19,
   "metadata": {},
   "outputs": [],
   "source": [
    "poisson;"
   ]
  },
  {
   "cell_type": "code",
   "execution_count": 20,
   "metadata": {},
   "outputs": [
    {
     "data": {
      "image/png": "[encoded data removed]",
      "text/plain": [
       "<Figure size 432x288 with 1 Axes>"
      ]
     },
     "metadata": {},
     "output_type": "display_data"
    }
   ],
   "source": [
    "plt.plot(poisson,\"ro\",label=\"Poisson\", linestyle='-')\n",
    "\n",
    "plt.xlim(0, maximo+3)\n",
    "\n",
    "plt.xlabel(\"n\")\n",
    "plt.ylabel(\"$P_n$\")\n",
    "\n",
    "plt.legend(loc=0)\n",
    "\n",
    "plt.grid()\n",
    "plt.show()"
   ]
  },
  {
   "cell_type": "markdown",
   "metadata": {},
   "source": [
    "### Comparación de resultados"
   ]
  },
  {
   "cell_type": "code",
   "execution_count": 21,
   "metadata": {},
   "outputs": [
    {
     "data": {
      "image/png": "[encoded data removed]",
      "text/plain": [
       "<Figure size 432x288 with 1 Axes>"
      ]
     },
     "metadata": {},
     "output_type": "display_data"
    }
   ],
   "source": [
    "plt.plot(poisson,\"ro\",label=\"Poisson\", linestyle='-')\n",
    "plt.plot(probabilidad,\"bo\",label=\"Experimento\")\n",
    "\n",
    "plt.xlim(0, maximo+3)\n",
    "\n",
    "plt.xlabel(\"n\")\n",
    "plt.ylabel(\"$P_n$\")\n",
    "\n",
    "plt.legend(loc=0)\n",
    "#plt.text(5.3, 0.2, \"Ventana de tiempo =%i \"%v)\n",
    "\n",
    "plt.grid()\n",
    "plt.savefig('g3.png')\n",
    "plt.show()"
   ]
  },
  {
   "cell_type": "markdown",
   "metadata": {},
   "source": [
    "### Datos estadísticos"
   ]
  },
  {
   "cell_type": "markdown",
   "metadata": {},
   "source": [
    "Desviación estándar si es estadística Poissoniana\n",
    "\n",
    "$(\\Delta n)^{2}=\\bar{n}$\n",
    "\n",
    "$\\Delta n=\\sqrt{\\bar{n}}$\n",
    "\n",
    "$1=\\frac{\\Delta n}{\\sqrt{\\bar{n}}}$\n",
    "\n"
   ]
  },
  {
   "cell_type": "code",
   "execution_count": 22,
   "metadata": {},
   "outputs": [],
   "source": [
    "#Raiz del promedio\n",
    "a=math.sqrt(promedio)"
   ]
  },
  {
   "cell_type": "code",
   "execution_count": 23,
   "metadata": {},
   "outputs": [],
   "source": [
    "#Desviación estandar\n",
    "\n",
    "ds=np.std(serie2)"
   ]
  },
  {
   "cell_type": "code",
   "execution_count": 24,
   "metadata": {},
   "outputs": [
    {
     "data": {
      "text/plain": [
       "0.03355666763152332"
      ]
     },
     "execution_count": 24,
     "metadata": {},
     "output_type": "execute_result"
    }
   ],
   "source": [
    "#Tomamos como medida de error la diferencia entre la desviación estándar y la raíz del promedio\n",
    "\n",
    "error=abs(a-ds)\n",
    "error"
   ]
  },
  {
   "cell_type": "markdown",
   "metadata": {},
   "source": [
    "Varianza\n",
    "\n",
    "$\\operatorname{Var}(n) \\equiv(\\Delta n)^{2}=\\sum_{n=0}^{\\infty}(n-\\bar{n})^{2} \\mathcal{P}(n)$"
   ]
  },
  {
   "cell_type": "code",
   "execution_count": 25,
   "metadata": {},
   "outputs": [
    {
     "data": {
      "text/plain": [
       "20.325043039999997"
      ]
     },
     "execution_count": 25,
     "metadata": {},
     "output_type": "execute_result"
    }
   ],
   "source": [
    "varianza=np.var(serie2)\n",
    "varianza"
   ]
  },
  {
   "cell_type": "markdown",
   "metadata": {},
   "source": [
    "Factor de Fano\n",
    "\n",
    "\n",
    "$F=\\frac{\\sigma_{W}^{2}}{\\mu_{W}}$\n",
    "\n",
    "\n",
    "https://en.wikipedia.org/wiki/Fano_factor"
   ]
  },
  {
   "cell_type": "code",
   "execution_count": 26,
   "metadata": {},
   "outputs": [],
   "source": [
    "#Factor de Fano\n",
    "\n",
    "ff=np.var(serie2)/np.mean(serie2)"
   ]
  },
  {
   "cell_type": "code",
   "execution_count": 27,
   "metadata": {},
   "outputs": [
    {
     "data": {
      "text/plain": [
       "1.0150543878223695"
      ]
     },
     "execution_count": 27,
     "metadata": {},
     "output_type": "execute_result"
    }
   ],
   "source": [
    "ff"
   ]
  },
  {
   "cell_type": "code",
   "execution_count": 28,
   "metadata": {},
   "outputs": [
    {
     "data": {
      "text/plain": [
       "0.0009962525662874997"
      ]
     },
     "execution_count": 28,
     "metadata": {},
     "output_type": "execute_result"
    }
   ],
   "source": [
    "#Error promedio\n",
    "\n",
    "diff=[x1 - x2 for (x1, x2) in zip(poisson, probabilidad)] #Calcula la diferencia de las listas\n",
    "absolutos = list(map(abs, diff )) #Calcula el valor absoluto de cada elemento\n",
    "error_promedio=sum(absolutos)/len(absolutos)\n",
    "error_promedio\n",
    "\n"
   ]
  },
  {
   "cell_type": "code",
   "execution_count": 29,
   "metadata": {},
   "outputs": [
    {
     "data": {
      "text/html": [
       "<div>\n",
       "<style scoped>\n",
       "    .dataframe tbody tr th:only-of-type {\n",
       "        vertical-align: middle;\n",
       "    }\n",
       "\n",
       "    .dataframe tbody tr th {\n",
       "        vertical-align: top;\n",
       "    }\n",
       "\n",
       "    .dataframe thead th {\n",
       "        text-align: right;\n",
       "    }\n",
       "</style>\n",
       "<table border=\"1\" class=\"dataframe\">\n",
       "  <thead>\n",
       "    <tr style=\"text-align: right;\">\n",
       "      <th></th>\n",
       "      <th>Datos</th>\n",
       "      <th>Valor</th>\n",
       "    </tr>\n",
       "  </thead>\n",
       "  <tbody>\n",
       "    <tr>\n",
       "      <th>0</th>\n",
       "      <td>Promedio</td>\n",
       "      <td>20.023600</td>\n",
       "    </tr>\n",
       "    <tr>\n",
       "      <th>1</th>\n",
       "      <td>DS</td>\n",
       "      <td>20.325043</td>\n",
       "    </tr>\n",
       "    <tr>\n",
       "      <th>2</th>\n",
       "      <td>Varianza</td>\n",
       "      <td>4.508330</td>\n",
       "    </tr>\n",
       "    <tr>\n",
       "      <th>3</th>\n",
       "      <td>F. Fano</td>\n",
       "      <td>1.015054</td>\n",
       "    </tr>\n",
       "    <tr>\n",
       "      <th>4</th>\n",
       "      <td>Error</td>\n",
       "      <td>0.033557</td>\n",
       "    </tr>\n",
       "    <tr>\n",
       "      <th>5</th>\n",
       "      <td>Error promedio</td>\n",
       "      <td>0.000996</td>\n",
       "    </tr>\n",
       "  </tbody>\n",
       "</table>\n",
       "</div>"
      ],
      "text/plain": [
       "            Datos      Valor\n",
       "0        Promedio  20.023600\n",
       "1              DS  20.325043\n",
       "2        Varianza   4.508330\n",
       "3         F. Fano   1.015054\n",
       "4           Error   0.033557\n",
       "5  Error promedio   0.000996"
      ]
     },
     "execution_count": 29,
     "metadata": {},
     "output_type": "execute_result"
    }
   ],
   "source": [
    "data={\"Datos\":[\"Promedio\",\"DS\",\"Varianza\",\"F. Fano\", \"Error\",\"Error promedio\"], \"Valor\":[promedio,varianza,np.std(serie2),ff,error,error_promedio]}\n",
    "estadisticos= pd.DataFrame(data) \n",
    "estadisticos"
   ]
  },
  {
   "cell_type": "code",
   "execution_count": 30,
   "metadata": {},
   "outputs": [],
   "source": [
    "estadisticos.to_csv(\"/home/solaris/Documentos/LFC2/Programas/Programa 3/Datos/estadisticos.csv\")"
   ]
  },
  {
   "cell_type": "markdown",
   "metadata": {},
   "source": [
    "### Ventana de tiempo fija"
   ]
  },
  {
   "cell_type": "code",
   "execution_count": 31,
   "metadata": {},
   "outputs": [],
   "source": [
    "#Número de fotones\n",
    "fotones=100000\n",
    "\n",
    "#Diviciones del tiempo\n",
    "dt=1e7\n",
    "\n",
    "# Probabilidad\n",
    "P=fotones/dt\n",
    "\n",
    "# Ventana de tiempo\n",
    "v=2000\n",
    "\n",
    "\n",
    "#Repeticiones del experimento\n",
    "rep=50\n",
    "\n",
    "\n",
    "promedios=[]\n",
    "dss=[]\n",
    "varianzas=[]\n",
    "fanos=[]\n",
    "errores=[]\n",
    "ep=[]\n",
    "\n",
    "#Ciclo\n",
    "\n",
    "for j in range(rep):\n",
    "\n",
    "    serie1 = []\n",
    "\n",
    "    for i in range(int(dt)):\n",
    "        r=random.random()\n",
    "        if r <= P:\n",
    "            serie1.append(1)\n",
    "\n",
    "        else:\n",
    "            serie1.append(0)\n",
    "\n",
    "\n",
    "    arr=np.add.reduceat(serie1, np.arange(0, len(serie1), v))\n",
    "    serie2 = arr.tolist()\n",
    "\n",
    "    promedio=np.mean(serie2)\n",
    "\n",
    "    maximo=max(serie2)\n",
    "\n",
    "\n",
    "    favorables=[]\n",
    "    for i in range(maximo+1):\n",
    "        f=serie2.count(i)\n",
    "        favorables.append(f)\n",
    "\n",
    "    casos=sum(favorables)\n",
    "\n",
    "    probabilidad=[]\n",
    "    for i in range(len(favorables)):\n",
    "\n",
    "        p=favorables[i]/casos\n",
    "\n",
    "        probabilidad.append(p)\n",
    "\n",
    "    #POISSON    \n",
    "\n",
    "    n=maximo+1 #limite del eje x\n",
    "    poisson=[]\n",
    "\n",
    "    for i in  range(n):\n",
    "\n",
    "        #Usamos el promedio de fotones por ventana (promedio de la serie2)\n",
    "\n",
    "        Pn=math.exp(-promedio)*pow(promedio,i)*pow(math.factorial(i),-1)\n",
    "\n",
    "        poisson.append(Pn)\n",
    "\n",
    "\n",
    "    #DATOS ESTADISTICOS\n",
    "\n",
    "    #Raiz del promedio\n",
    "    a=math.sqrt(promedio)\n",
    "\n",
    "    #Desviación estandar\n",
    "    ds=np.std(serie2)\n",
    "\n",
    "    #Tomamos como medida de error la diferencia entre la desviación estándar y la raíz del promedio\n",
    "    error=abs(a-ds)\n",
    "\n",
    "    #Varianza\n",
    "    varianza=np.var(serie2)\n",
    "\n",
    "    #Factor de Fano\n",
    "    ff=np.var(serie2)/np.mean(serie2)\n",
    "\n",
    "    #Error promedio\n",
    "\n",
    "    diff=[x1 - x2 for (x1, x2) in zip(poisson, probabilidad)] #Calcula la diferencia de las listas\n",
    "    absolutos = list(map(abs, diff )) #Calcula el valor absoluto de cada elemento\n",
    "    error_promedio=sum(absolutos)/len(absolutos)\n",
    "\n",
    "\n",
    "    promedios.append(promedio)\n",
    "    dss.append(ds)\n",
    "    varianzas.append(varianza)\n",
    "    fanos.append(ff)\n",
    "    errores.append(error)\n",
    "    ep.append(error_promedio)\n"
   ]
  },
  {
   "cell_type": "code",
   "execution_count": 32,
   "metadata": {},
   "outputs": [],
   "source": [
    "p_promedios=sum(promedios)/len(promedios)\n",
    "p_dss=sum(dss)/len(dss)\n",
    "p_varianzas=sum(varianzas)/len(varianzas)\n",
    "p_fanos=sum(fanos)/len(fanos)\n",
    "p_errores=sum(errores)/len(errores)\n",
    "p_ep=sum(ep)/len(ep)\n"
   ]
  },
  {
   "cell_type": "code",
   "execution_count": 33,
   "metadata": {},
   "outputs": [
    {
     "data": {
      "text/html": [
       "<div>\n",
       "<style scoped>\n",
       "    .dataframe tbody tr th:only-of-type {\n",
       "        vertical-align: middle;\n",
       "    }\n",
       "\n",
       "    .dataframe tbody tr th {\n",
       "        vertical-align: top;\n",
       "    }\n",
       "\n",
       "    .dataframe thead th {\n",
       "        text-align: right;\n",
       "    }\n",
       "</style>\n",
       "<table border=\"1\" class=\"dataframe\">\n",
       "  <thead>\n",
       "    <tr style=\"text-align: right;\">\n",
       "      <th></th>\n",
       "      <th>Datos</th>\n",
       "      <th>Valor</th>\n",
       "    </tr>\n",
       "  </thead>\n",
       "  <tbody>\n",
       "    <tr>\n",
       "      <th>0</th>\n",
       "      <td>Promedio</td>\n",
       "      <td>19.999764</td>\n",
       "    </tr>\n",
       "    <tr>\n",
       "      <th>1</th>\n",
       "      <td>DS</td>\n",
       "      <td>19.716574</td>\n",
       "    </tr>\n",
       "    <tr>\n",
       "      <th>2</th>\n",
       "      <td>Varianza</td>\n",
       "      <td>4.440169</td>\n",
       "    </tr>\n",
       "    <tr>\n",
       "      <th>3</th>\n",
       "      <td>F. Fano</td>\n",
       "      <td>0.985853</td>\n",
       "    </tr>\n",
       "    <tr>\n",
       "      <th>4</th>\n",
       "      <td>Error</td>\n",
       "      <td>0.039470</td>\n",
       "    </tr>\n",
       "    <tr>\n",
       "      <th>5</th>\n",
       "      <td>Error promedio</td>\n",
       "      <td>0.001335</td>\n",
       "    </tr>\n",
       "  </tbody>\n",
       "</table>\n",
       "</div>"
      ],
      "text/plain": [
       "            Datos      Valor\n",
       "0        Promedio  19.999764\n",
       "1              DS  19.716574\n",
       "2        Varianza   4.440169\n",
       "3         F. Fano   0.985853\n",
       "4           Error   0.039470\n",
       "5  Error promedio   0.001335"
      ]
     },
     "execution_count": 33,
     "metadata": {},
     "output_type": "execute_result"
    }
   ],
   "source": [
    "data_general={\"Datos\":[\"Promedio\",\"DS\",\"Varianza\",\"F. Fano\", \"Error\",\"Error promedio\"], \"Valor\":[p_promedios,p_varianzas,p_dss,p_fanos,p_errores,p_ep]}\n",
    "estadisticos_generales= pd.DataFrame(data_general) \n",
    "estadisticos_generales"
   ]
  },
  {
   "cell_type": "code",
   "execution_count": 34,
   "metadata": {},
   "outputs": [],
   "source": [
    "estadisticos_generales.to_csv(\"/home/solaris/Documentos/LFC2/Programas/Programa 3/Datos/estadisticos_generales.csv\")"
   ]
  },
  {
   "cell_type": "code",
   "execution_count": null,
   "metadata": {},
   "outputs": [],
   "source": []
  }
 ],
 "metadata": {
  "kernelspec": {
   "display_name": "Python 3",
   "language": "python",
   "name": "python3"
  },
  "language_info": {
   "codemirror_mode": {
    "name": "ipython",
    "version": 3
   },
   "file_extension": ".py",
   "mimetype": "text/x-python",
   "name": "python",
   "nbconvert_exporter": "python",
   "pygments_lexer": "ipython3",
   "version": "3.6.9"
  }
 },
 "nbformat": 4,
 "nbformat_minor": 4
}
