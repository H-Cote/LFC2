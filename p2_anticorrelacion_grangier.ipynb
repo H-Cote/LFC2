{
 "cells": [
  {
   "cell_type": "markdown",
   "metadata": {},
   "source": [
    "# Anticorrelación de Grangier"
   ]
  },
  {
   "cell_type": "markdown",
   "metadata": {},
   "source": [
    "### Bibliotecas"
   ]
  },
  {
   "cell_type": "code",
   "execution_count": 1,
   "metadata": {},
   "outputs": [],
   "source": [
    "import time\n",
    "import random\n",
    "import pandas as pd\n",
    "import matplotlib.pyplot as plt\n",
    "import numpy as np\n",
    "import math\n",
    "import matplotlib"
   ]
  },
  {
   "cell_type": "code",
   "execution_count": 2,
   "metadata": {},
   "outputs": [
    {
     "name": "stdout",
     "output_type": "stream",
     "text": [
      "Numpy 1.18.1\n",
      "Pandas 0.22.0\n",
      "Matplotlib 3.3.0\n"
     ]
    }
   ],
   "source": [
    "#Versiones\n",
    "\n",
    "print(\"Numpy\",np.version.version)\n",
    "print(\"Pandas\",pd.__version__)\n",
    "print(\"Matplotlib\",matplotlib.__version__)\n"
   ]
  },
  {
   "cell_type": "markdown",
   "metadata": {},
   "source": [
    "### Dos detectores "
   ]
  },
  {
   "cell_type": "code",
   "execution_count": 179,
   "metadata": {},
   "outputs": [],
   "source": [
    "#Parámetros\n",
    "\n",
    "fotones=50000 #Fotones por segundo (N)\n",
    "nc=5000 #Numero de conincidencias (NQ)\n",
    "dt=50000000 #división del tiempo (NN)\n",
    "P=fotones/dt #Probabilidad de fotones en la serie (ff)\n",
    "PC=nc/dt #Probabilidad de coincidencia (ffQ)"
   ]
  },
  {
   "cell_type": "code",
   "execution_count": 180,
   "metadata": {},
   "outputs": [],
   "source": [
    "# Inicio de las series\n",
    "T=[]\n",
    "R=[]\n",
    "G=[]\n",
    "GT=[]\n",
    "GR=[]"
   ]
  },
  {
   "cell_type": "code",
   "execution_count": 181,
   "metadata": {},
   "outputs": [],
   "source": [
    "# SerieS transmitida (T), reflejada(R) y testigo (G)\n",
    "ng=0\n",
    "for i in range(dt):\n",
    "    \n",
    "    r1=random.random()\n",
    "    if r1<=P:\n",
    "        T.append(1)\n",
    "\n",
    "    else:\n",
    "        T.append(0)\n",
    "\n",
    "    r2=random.random()\n",
    "    if r2<=P:\n",
    "        R.append(1)\n",
    "\n",
    "    else:\n",
    "        R.append(0)\n",
    "        \n",
    "    \n",
    "    r3=random.random()\n",
    "    if r3<=PC:\n",
    "        G.append(1)\n",
    "        ng=ng+1\n",
    "\n",
    "    else:\n",
    "        G.append(0)    "
   ]
  },
  {
   "cell_type": "code",
   "execution_count": 182,
   "metadata": {},
   "outputs": [],
   "source": [
    "\n",
    "\n",
    "# Suma de las series:\n",
    "# Añadimos la información de G a T y R, modificando su información para que coincida con la \n",
    "# serie testigo. \n",
    "# La condición r4>=0.5 indica que los fotones señal (testigo) son transmitidos o reflejados\n",
    "# de forma aleatoria\n",
    " \n",
    "for i in range(dt):\n",
    "    GT.append(0)\n",
    "    GR.append(0)\n",
    "    r4=random.random()\n",
    "    if r4>=0.5: \n",
    "        GT[i]=G[i]\n",
    "        \n",
    "    else:\n",
    "        GR[i]=G[i]"
   ]
  },
  {
   "cell_type": "code",
   "execution_count": 183,
   "metadata": {},
   "outputs": [],
   "source": [
    "#Sumamos las series\n",
    "#Obtenemos una nueva serie transmitida y reflejada sumando T+GT y R+GR\n",
    "\n",
    "for i in range(dt):\n",
    "    T[i]=T[i]+GT[i]\n",
    "    if T[i]!=0:\n",
    "        R[i]=R[i]+GR[i]"
   ]
  },
  {
   "cell_type": "code",
   "execution_count": 184,
   "metadata": {},
   "outputs": [],
   "source": [
    "#Conteo de coincidencias\n",
    "ctr=0\n",
    "for i in range(dt):\n",
    "    \n",
    "    if T[i]*R[i]!=0:\n",
    "        ctr=ctr+1\n",
    "    else:\n",
    "        ctr=ctr+0"
   ]
  },
  {
   "cell_type": "markdown",
   "metadata": {},
   "source": [
    "Función de correlación para dos detectores:\n",
    "\n",
    "\\begin{equation}g_{2 D}^{(2)}(0)=\\frac{N_{T R}}{N_{T} N_{R}}\\left(\\frac{\\Delta T}{\\Delta t}\\right)\\end{equation}\n"
   ]
  },
  {
   "cell_type": "code",
   "execution_count": 185,
   "metadata": {},
   "outputs": [],
   "source": [
    "g2=ctr/(T.count(1)*R.count(1))*1*dt"
   ]
  },
  {
   "cell_type": "code",
   "execution_count": 186,
   "metadata": {},
   "outputs": [
    {
     "data": {
      "text/plain": [
       "1.2914950787887702"
      ]
     },
     "execution_count": 186,
     "metadata": {},
     "output_type": "execute_result"
    }
   ],
   "source": [
    "g2"
   ]
  },
  {
   "cell_type": "markdown",
   "metadata": {},
   "source": [
    "### Tres detectores"
   ]
  },
  {
   "cell_type": "code",
   "execution_count": 187,
   "metadata": {},
   "outputs": [],
   "source": [
    "cgtr=0\n",
    "cgt=0\n",
    "cgr=0\n",
    "\n",
    "for i in range(dt):\n",
    "    if G[i]*T[i]*R[i]!=0:\n",
    "        cgtr=cgtr+1\n",
    "    if G[i]*T[i]!=0:\n",
    "        cgt=cgt+1\n",
    "    if G[i]*R[i]!=0:\n",
    "        cgr=cgr+1       "
   ]
  },
  {
   "cell_type": "markdown",
   "metadata": {},
   "source": [
    "Función de correlación para tres detectores:\n",
    "\n",
    "\\begin{equation}g_{3 D}^{(2)}(0)=\\frac{N_{G T R} N_{G}}{N_{G T} N_{G R}}\\end{equation}\n"
   ]
  },
  {
   "cell_type": "code",
   "execution_count": 188,
   "metadata": {},
   "outputs": [],
   "source": [
    "g3=(ng*cgtr)/(cgt*cgr)"
   ]
  },
  {
   "cell_type": "code",
   "execution_count": 189,
   "metadata": {},
   "outputs": [
    {
     "data": {
      "text/plain": [
       "1.545309381237525"
      ]
     },
     "execution_count": 189,
     "metadata": {},
     "output_type": "execute_result"
    }
   ],
   "source": [
    "g3"
   ]
  },
  {
   "cell_type": "markdown",
   "metadata": {},
   "source": [
    "---"
   ]
  },
  {
   "cell_type": "markdown",
   "metadata": {},
   "source": [
    "### Experimentos con 2 detectores"
   ]
  },
  {
   "cell_type": "code",
   "execution_count": 89,
   "metadata": {},
   "outputs": [],
   "source": [
    "# Variación de la ventana de tiempo\n",
    "ventanas=[90000000,50000000,5000000,500000,100000,80000,75000]"
   ]
  },
  {
   "cell_type": "code",
   "execution_count": 90,
   "metadata": {},
   "outputs": [],
   "source": [
    "# Calculo de los tiempos por ventana\n",
    "tiempos=[]\n",
    "for i in range(len(ventanas)):\n",
    "    tiempos.append(1/ventanas[i])"
   ]
  },
  {
   "cell_type": "code",
   "execution_count": 97,
   "metadata": {},
   "outputs": [
    {
     "name": "stdout",
     "output_type": "stream",
     "text": [
      "CPU times: user 4min 34s, sys: 3.11 s, total: 4min 37s\n",
      "Wall time: 4min 38s\n"
     ]
    }
   ],
   "source": [
    "%%time\n",
    "fotones=50000 #Fotones por segundo \n",
    "nc=5000 #Numero de conincidencias \n",
    "\n",
    "\n",
    "g2s=[]\n",
    "\n",
    "for j in range(len(ventanas)):\n",
    "    \n",
    "    dt=ventanas[j]\n",
    "    P=fotones/dt #Probabilidad de fotones en la serie \n",
    "    PC=nc/dt #Probabilidad de coincidencia \n",
    "    T=[]\n",
    "    R=[]\n",
    "    G=[]\n",
    "    GT=[]\n",
    "    GR=[]\n",
    "    ctr=0\n",
    "    NG=0\n",
    "    for i in range(dt):\n",
    "\n",
    "        r1=random.random()\n",
    "        if r1<=P:\n",
    "            T.append(1)\n",
    "\n",
    "        else:\n",
    "            T.append(0)\n",
    "\n",
    "        r2=random.random()\n",
    "        if r2<=P:\n",
    "            R.append(1)\n",
    "\n",
    "        else:\n",
    "            R.append(0)\n",
    "\n",
    "        r3=random.random()\n",
    "        if r3<=PC:\n",
    "            G.append(1)\n",
    "            NG=NG+1\n",
    "        else:\n",
    "            G.append(0)\n",
    "\n",
    "        GT.append(0)\n",
    "        GR.append(0)\n",
    "        r4=random.random()\n",
    "        if r4>=0.5:\n",
    "            GT[i]=G[i]\n",
    "        else:\n",
    "            GR[i]=G[i]\n",
    "\n",
    "        T[i]=T[i]+GT[i]\n",
    "        if T[i]!=0:\n",
    "            R[i]=R[i]+GR[i]\n",
    "\n",
    "\n",
    "        if T[i]*R[i]!=0:\n",
    "            ctr=ctr+1\n",
    "        else:\n",
    "            ctr=ctr+0\n",
    "            \n",
    "    g2=1*dt*ctr/(T.count(1)*R.count(1))\n",
    "    g2s.append(g2)"
   ]
  },
  {
   "cell_type": "code",
   "execution_count": 92,
   "metadata": {},
   "outputs": [
    {
     "data": {
      "image/png": "[encoded data removed]",
      "text/plain": [
       "<Figure size 432x288 with 1 Axes>"
      ]
     },
     "metadata": {},
     "output_type": "display_data"
    }
   ],
   "source": [
    "plt.plot(tiempos,g2s,\"ro\",label=\"2 detectores\",linestyle=\"-\")\n",
    "\n",
    "plt.xlabel(\"ventana de tiempo\")\n",
    "plt.ylabel(\"g2\")\n",
    "\n",
    "plt.legend(loc=0)\n",
    "plt.grid()\n",
    "plt.savefig(\"g22\")\n",
    "plt.show()"
   ]
  },
  {
   "cell_type": "markdown",
   "metadata": {},
   "source": [
    "### Experimentos con 3 detectores"
   ]
  },
  {
   "cell_type": "code",
   "execution_count": 148,
   "metadata": {},
   "outputs": [],
   "source": [
    "# Variación de la ventana de tiempo\n",
    "\n",
    "ventanas=[90000000,50000000,5000000,3000000,800000,500000,300000,100000]\n",
    "#ventanas=[50000000,5000000,3000000,800000,500000,100000,80000,75000,55000]"
   ]
  },
  {
   "cell_type": "code",
   "execution_count": 149,
   "metadata": {},
   "outputs": [],
   "source": [
    "# Calculo de los tiempos por ventana\n",
    "tiempos=[]\n",
    "for i in range(len(ventanas)):\n",
    "    tiempos.append(1/ventanas[i])"
   ]
  },
  {
   "cell_type": "code",
   "execution_count": 191,
   "metadata": {},
   "outputs": [
    {
     "name": "stdout",
     "output_type": "stream",
     "text": [
      "CPU times: user 5min 54s, sys: 2.91 s, total: 5min 57s\n",
      "Wall time: 5min 57s\n"
     ]
    }
   ],
   "source": [
    "%%time\n",
    "#g3=cgtr/(cgt*cgr)*G.count(1)\n",
    "fotones=100000 #Fotones por segundo \n",
    "nc=10000 #Numero de conincidencias \n",
    "\n",
    "\n",
    "g2s=[]\n",
    "g3s=[]\n",
    "\n",
    "for j in range(len(ventanas)):\n",
    "    \n",
    "    dt=ventanas[j]\n",
    "    P=fotones/dt #Probabilidad de fotones en la serie \n",
    "    PC=nc/dt #Probabilidad de coincidencia \n",
    "    T=[]\n",
    "    R=[]\n",
    "    G=[]\n",
    "    GT=[]\n",
    "    GR=[]\n",
    "    ctr=0\n",
    "    cgtr=0\n",
    "    cgt=0\n",
    "    cgr=0\n",
    "    NG=0\n",
    "    NT=0\n",
    "    NR=0\n",
    "    for i in range(dt):\n",
    "\n",
    "        r1=random.random()\n",
    "        if r1<=P:\n",
    "            T.append(1)\n",
    "            NT=NT+1\n",
    "        else:\n",
    "            T.append(0)\n",
    "\n",
    "        r2=random.random()\n",
    "        if r2<=P:\n",
    "            R.append(1)\n",
    "            NR=NR+1\n",
    "        else:\n",
    "            R.append(0)\n",
    "\n",
    "        r3=random.random()\n",
    "        if r3<=PC:\n",
    "            G.append(1)\n",
    "            NG=NG+1\n",
    "        else:\n",
    "            G.append(0)\n",
    "\n",
    "        GT.append(0)\n",
    "        GR.append(0)\n",
    "        r4=random.random()\n",
    "        if r4>=0.5:\n",
    "            GT[i]=G[i]\n",
    "        else:\n",
    "            GR[i]=G[i]\n",
    "\n",
    "        T[i]=T[i]+GT[i]\n",
    "        if T[i]!=0:\n",
    "            R[i]=R[i]+GR[i]\n",
    "\n",
    "\n",
    "        if T[i]*R[i]!=0:\n",
    "            ctr=ctr+1\n",
    "        else:\n",
    "            ctr=ctr+0     \n",
    "            \n",
    "\n",
    "\n",
    "        if (G[i]*T[i]*R[i])!=0:\n",
    "            cgtr=cgtr+1\n",
    "        else:\n",
    "            cgtr=cgtr+0\n",
    "            \n",
    "        if (G[i]*T[i])!=0:\n",
    "            cgt=cgt+1\n",
    "        else:\n",
    "            cgt=cgt+0\n",
    "            \n",
    "        if (G[i]*R[i])!=0:\n",
    "            cgr=cgr+1  \n",
    "        else:\n",
    "            cgr=cgr+0\n",
    "            \n",
    "    #g2=1*dt*ctr/(T.count(1)*R.count(1))\n",
    "    g2=1*dt*ctr/(NT*NR)\n",
    "    g2s.append(g2)\n",
    "    \n",
    "    g3=cgtr*NG/(cgt*cgr)\n",
    "\n",
    "    g3s.append(g3)\n",
    "    "
   ]
  },
  {
   "cell_type": "code",
   "execution_count": 192,
   "metadata": {},
   "outputs": [],
   "source": [
    "g3s.sort()"
   ]
  },
  {
   "cell_type": "markdown",
   "metadata": {},
   "source": [
    "### Comparación de resultados"
   ]
  },
  {
   "cell_type": "code",
   "execution_count": 193,
   "metadata": {},
   "outputs": [
    {
     "data": {
      "image/png": "[encoded data removed]",
      "text/plain": [
       "<Figure size 432x288 with 1 Axes>"
      ]
     },
     "metadata": {},
     "output_type": "display_data"
    }
   ],
   "source": [
    "plt.plot(tiempos,g3s,\"bo\",label=\"3 detectores\",linestyle=\"-\")\n",
    "plt.plot(tiempos,g2s,\"ro\",label=\"2 detectores\",linestyle=\"-\")\n",
    "\n",
    "\n",
    "plt.xlabel(\"ventana de tiempo\")\n",
    "plt.ylabel(\"g2\")\n",
    "plt.ylim(0,1.5)\n",
    "plt.xlim(-0.0000001,0.000005)\n",
    "plt.legend(loc=0)\n",
    "plt.grid()\n",
    "plt.savefig(\"g23\")\n",
    "plt.show()"
   ]
  },
  {
   "cell_type": "markdown",
   "metadata": {},
   "source": [
    "---"
   ]
  },
  {
   "cell_type": "markdown",
   "metadata": {},
   "source": [
    "### Solo 3 detectores"
   ]
  },
  {
   "cell_type": "code",
   "execution_count": null,
   "metadata": {},
   "outputs": [],
   "source": []
  },
  {
   "cell_type": "code",
   "execution_count": null,
   "metadata": {},
   "outputs": [],
   "source": []
  },
  {
   "cell_type": "markdown",
   "metadata": {},
   "source": [
    "### Estadística"
   ]
  },
  {
   "cell_type": "code",
   "execution_count": null,
   "metadata": {},
   "outputs": [],
   "source": []
  },
  {
   "cell_type": "code",
   "execution_count": null,
   "metadata": {},
   "outputs": [],
   "source": []
  },
  {
   "cell_type": "code",
   "execution_count": null,
   "metadata": {},
   "outputs": [],
   "source": []
  }
 ],
 "metadata": {
  "kernelspec": {
   "display_name": "Python 3",
   "language": "python",
   "name": "python3"
  },
  "language_info": {
   "codemirror_mode": {
    "name": "ipython",
    "version": 3
   },
   "file_extension": ".py",
   "mimetype": "text/x-python",
   "name": "python",
   "nbconvert_exporter": "python",
   "pygments_lexer": "ipython3",
   "version": "3.6.9"
  }
 },
 "nbformat": 4,
 "nbformat_minor": 4
}
