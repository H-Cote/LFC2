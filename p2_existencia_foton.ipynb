{
 "cells": [
  {
   "cell_type": "markdown",
   "metadata": {},
   "source": [
    "# Prueba de la existencia del fotón "
   ]
  },
  {
   "cell_type": "markdown",
   "metadata": {},
   "source": [
    "### Bibliotecas"
   ]
  },
  {
   "cell_type": "code",
   "execution_count": 12,
   "metadata": {},
   "outputs": [],
   "source": [
    "import time\n",
    "import random\n",
    "import pandas as pd\n",
    "import matplotlib.pyplot as plt\n",
    "import numpy as np\n",
    "import math\n",
    "import matplotlib\n",
    "import collections\n"
   ]
  },
  {
   "cell_type": "code",
   "execution_count": 13,
   "metadata": {},
   "outputs": [
    {
     "name": "stdout",
     "output_type": "stream",
     "text": [
      "Numpy 1.18.1\n",
      "Pandas 0.22.0\n",
      "Matplotlib 3.3.0\n"
     ]
    }
   ],
   "source": [
    "#Versiones\n",
    "\n",
    "print(\"Numpy\",np.version.version)\n",
    "print(\"Pandas\",pd.__version__)\n",
    "print(\"Matplotlib\",matplotlib.__version__)"
   ]
  },
  {
   "cell_type": "markdown",
   "metadata": {},
   "source": [
    "### Parámetros"
   ]
  },
  {
   "cell_type": "markdown",
   "metadata": {},
   "source": [
    "#### Probabilidades"
   ]
  },
  {
   "cell_type": "code",
   "execution_count": 14,
   "metadata": {},
   "outputs": [],
   "source": [
    "fotones = 50000 #Fotones por segundo\n",
    "nc = 5000 #Número de coincidencias\n",
    "dt=900000\n",
    "P = fotones/dt #(P=0.05)\n",
    "PC = nc/dt    #(pc=0.005)"
   ]
  },
  {
   "cell_type": "markdown",
   "metadata": {},
   "source": [
    "---"
   ]
  },
  {
   "cell_type": "code",
   "execution_count": 15,
   "metadata": {},
   "outputs": [],
   "source": [
    "#Generamos las listas de fotones transmitidos, reflejados y testigos.\n",
    "    \n",
    "T=[]\n",
    "R=[]\n",
    "G=[]\n",
    "NG=0\n",
    "\n",
    "for i in range(dt):    \n",
    "    r1=random.random()\n",
    "    if r1<=P:\n",
    "        T.append(1)\n",
    "\n",
    "    else:\n",
    "        T.append(0)\n",
    "\n",
    "    r2=random.random()\n",
    "    if r2<=P:\n",
    "        R.append(1)\n",
    "\n",
    "    else:\n",
    "        R.append(0)\n",
    "\n",
    "    \n",
    "    r3=random.random()\n",
    "    if r3<=PC:\n",
    "        G.append(1)\n",
    "        NG=NG+1  #Calculamos el número de fotones testigo\n",
    "\n",
    "    else:\n",
    "        G.append(0) \n"
   ]
  },
  {
   "cell_type": "code",
   "execution_count": 16,
   "metadata": {},
   "outputs": [
    {
     "data": {
      "text/plain": [
       "Counter({0: 894986, 1: 5014})"
      ]
     },
     "execution_count": 16,
     "metadata": {},
     "output_type": "execute_result"
    }
   ],
   "source": [
    "#Notamos G tiene del orden de 5000 fotones para hacer coincidencia\n",
    "\n",
    "collections.Counter(G)"
   ]
  },
  {
   "cell_type": "code",
   "execution_count": 17,
   "metadata": {},
   "outputs": [
    {
     "data": {
      "text/plain": [
       "Counter({0: 850392, 1: 49608})"
      ]
     },
     "execution_count": 17,
     "metadata": {},
     "output_type": "execute_result"
    }
   ],
   "source": [
    "collections.Counter(T)"
   ]
  },
  {
   "cell_type": "code",
   "execution_count": 18,
   "metadata": {},
   "outputs": [
    {
     "data": {
      "text/plain": [
       "Counter({1: 50282, 0: 849718})"
      ]
     },
     "execution_count": 18,
     "metadata": {},
     "output_type": "execute_result"
    }
   ],
   "source": [
    "collections.Counter(R)"
   ]
  },
  {
   "cell_type": "code",
   "execution_count": 19,
   "metadata": {},
   "outputs": [],
   "source": [
    "# Suma de listas\n",
    "\n",
    "NT=0\n",
    "NR=0\n",
    "\n",
    "for i in range(dt):\n",
    "    r4=random.random()\n",
    "    if r4>=0.5: \n",
    "        T[i]=T[i]+G[i]\n",
    "    else:\n",
    "        R[i]=R[i]+G[i]"
   ]
  },
  {
   "cell_type": "code",
   "execution_count": 20,
   "metadata": {},
   "outputs": [],
   "source": [
    "#En T y R hay tres valores distintos: 0,1 y 2.\n",
    "#La probabiliad de G[i]+T[i]=2 es baja, debido los valores de P y pc\n",
    "#La cantidad de 0s en T y R se reduce. "
   ]
  },
  {
   "cell_type": "code",
   "execution_count": 21,
   "metadata": {},
   "outputs": [
    {
     "data": {
      "text/plain": [
       "Counter({0: 848028, 1: 51844, 2: 128})"
      ]
     },
     "execution_count": 21,
     "metadata": {},
     "output_type": "execute_result"
    }
   ],
   "source": [
    "collections.Counter(T)"
   ]
  },
  {
   "cell_type": "code",
   "execution_count": 22,
   "metadata": {},
   "outputs": [
    {
     "data": {
      "text/plain": [
       "Counter({1: 52540, 0: 847328, 2: 132})"
      ]
     },
     "execution_count": 22,
     "metadata": {},
     "output_type": "execute_result"
    }
   ],
   "source": [
    "collections.Counter(R)"
   ]
  },
  {
   "cell_type": "code",
   "execution_count": null,
   "metadata": {},
   "outputs": [],
   "source": [
    "# Cantidad de fotones transmitidos y reflejados. \n",
    "# Se cuentan la cantidad de valores distintos de 0 en ambas listas. \n",
    "        \n",
    "    if T[i] != 0:\n",
    "        NT =NT+1\n",
    "    if R[i] != 0:\n",
    "        NR =NR+1  "
   ]
  },
  {
   "cell_type": "code",
   "execution_count": 23,
   "metadata": {},
   "outputs": [],
   "source": [
    "NTR=0\n",
    "NGT=0\n",
    "NGR=0\n",
    "NGTR=0\n",
    "\n",
    "#Coincidencias para 2 detectores (T y R)\n",
    "\n",
    "for i in range(dt):\n",
    "    \n",
    "        if T[i]*R[i]!=0:\n",
    "            NTR=NTR+1\n",
    "        else:\n",
    "            NTR=NTR+0 \n",
    "            \n",
    "#Coincidencias para 3 detectores (T, R y G)\n",
    "    \n",
    "        if G[i]*T[i]*R[i]!=0:\n",
    "            NGTR=NGTR+1\n",
    "        if G[i]*T[i]!=0:\n",
    "            NGT=NGT+1\n",
    "        if G[i]*R[i]!=0:\n",
    "            NGR=NGR+1 "
   ]
  },
  {
   "cell_type": "code",
   "execution_count": 28,
   "metadata": {},
   "outputs": [
    {
     "data": {
      "text/html": [
       "<div>\n",
       "<style scoped>\n",
       "    .dataframe tbody tr th:only-of-type {\n",
       "        vertical-align: middle;\n",
       "    }\n",
       "\n",
       "    .dataframe tbody tr th {\n",
       "        vertical-align: top;\n",
       "    }\n",
       "\n",
       "    .dataframe thead th {\n",
       "        text-align: right;\n",
       "    }\n",
       "</style>\n",
       "<table border=\"1\" class=\"dataframe\">\n",
       "  <thead>\n",
       "    <tr style=\"text-align: right;\">\n",
       "      <th></th>\n",
       "      <th>Cantidades</th>\n",
       "      <th>Valor</th>\n",
       "    </tr>\n",
       "  </thead>\n",
       "  <tbody>\n",
       "    <tr>\n",
       "      <th>0</th>\n",
       "      <td>$N_T$</td>\n",
       "      <td>51972</td>\n",
       "    </tr>\n",
       "    <tr>\n",
       "      <th>1</th>\n",
       "      <td>$N_R$</td>\n",
       "      <td>52672</td>\n",
       "    </tr>\n",
       "    <tr>\n",
       "      <th>2</th>\n",
       "      <td>$N_G$</td>\n",
       "      <td>5014</td>\n",
       "    </tr>\n",
       "    <tr>\n",
       "      <th>3</th>\n",
       "      <td>$N_{TR}$</td>\n",
       "      <td>3038</td>\n",
       "    </tr>\n",
       "    <tr>\n",
       "      <th>4</th>\n",
       "      <td>$N_{GT}$</td>\n",
       "      <td>2621</td>\n",
       "    </tr>\n",
       "    <tr>\n",
       "      <th>5</th>\n",
       "      <td>$N_{GR}$</td>\n",
       "      <td>2643</td>\n",
       "    </tr>\n",
       "    <tr>\n",
       "      <th>6</th>\n",
       "      <td>$N_{GTR}$</td>\n",
       "      <td>250</td>\n",
       "    </tr>\n",
       "  </tbody>\n",
       "</table>\n",
       "</div>"
      ],
      "text/plain": [
       "  Cantidades  Valor\n",
       "0      $N_T$  51972\n",
       "1      $N_R$  52672\n",
       "2      $N_G$   5014\n",
       "3   $N_{TR}$   3038\n",
       "4   $N_{GT}$   2621\n",
       "5   $N_{GR}$   2643\n",
       "6  $N_{GTR}$    250"
      ]
     },
     "execution_count": 28,
     "metadata": {},
     "output_type": "execute_result"
    }
   ],
   "source": [
    "data0 = {'Cantidades':[\"$N_T$\",\"$N_R$\",\"$N_G$\",\"$N_{TR}$\",\"$N_{GT}$\",\"$N_{GR}$\",\"$N_{GTR}$\"],\n",
    "        'Valor': [NT,NR,NG,NTR,NGT,NGR,NGTR]}\n",
    "cantidades= pd.DataFrame(data0)\n",
    "cantidades"
   ]
  },
  {
   "cell_type": "markdown",
   "metadata": {},
   "source": [
    "Función de correlación para dos detectores:\n",
    "\n",
    "\\begin{equation}g_{2 D}^{(2)}(0)=\\frac{N_{T R}}{N_{T} N_{R}}\\left(\\frac{\\Delta T}{\\Delta t}\\right)\\end{equation}\n"
   ]
  },
  {
   "cell_type": "code",
   "execution_count": 7,
   "metadata": {},
   "outputs": [
    {
     "data": {
      "text/plain": [
       "0.9898781712497792"
      ]
     },
     "execution_count": 7,
     "metadata": {},
     "output_type": "execute_result"
    }
   ],
   "source": [
    "g2=(NTR/(NT*NR))*(1*dt)\n",
    "g2"
   ]
  },
  {
   "cell_type": "markdown",
   "metadata": {},
   "source": [
    "Función de correlación para tres detectores:\n",
    "\n",
    "\\begin{equation}g_{3 D}^{(2)}(0)=\\frac{N_{G T R} N_{G}}{N_{G T} N_{G R}}\\end{equation}"
   ]
  },
  {
   "cell_type": "code",
   "execution_count": 8,
   "metadata": {},
   "outputs": [
    {
     "data": {
      "text/plain": [
       "0.1928796161809107"
      ]
     },
     "execution_count": 8,
     "metadata": {},
     "output_type": "execute_result"
    }
   ],
   "source": [
    "g3=(NGTR/(NGT*NGR))*NG \n",
    "g3"
   ]
  },
  {
   "cell_type": "markdown",
   "metadata": {},
   "source": [
    "---"
   ]
  },
  {
   "cell_type": "markdown",
   "metadata": {},
   "source": [
    "### Experimentos con ventana de tiempo variable"
   ]
  },
  {
   "cell_type": "code",
   "execution_count": 9,
   "metadata": {},
   "outputs": [],
   "source": [
    "dts=[50000000,42000000,2000000,800000,360000,270000,180000,130000,90000,60000,50000,45000,38000]"
   ]
  },
  {
   "cell_type": "code",
   "execution_count": 10,
   "metadata": {},
   "outputs": [],
   "source": [
    "tiempos=[]\n",
    "for i in range(len(dts)):\n",
    "    tiempos.append(1/dts[i])"
   ]
  },
  {
   "cell_type": "code",
   "execution_count": 11,
   "metadata": {},
   "outputs": [
    {
     "name": "stdout",
     "output_type": "stream",
     "text": [
      "CPU times: user 2min 39s, sys: 1.06 s, total: 2min 40s\n",
      "Wall time: 2min 40s\n"
     ]
    }
   ],
   "source": [
    "%%time\n",
    "\n",
    "fotones = 50000\n",
    "nc = 5000\n",
    "\n",
    "g3s=[]\n",
    "g2s=[]\n",
    "\n",
    "for j in range(len(dts)):    \n",
    "    \n",
    "\n",
    "    dt =  dts[j]\n",
    "    P = fotones/dt\n",
    "    PC = nc/dt\n",
    "    \n",
    "    T=[]\n",
    "    R=[]\n",
    "    G=[]\n",
    "   \n",
    "    NT=0\n",
    "    NR=0\n",
    "    NG=0\n",
    "    NTR=0\n",
    "    NGTR=0\n",
    "    NGT=0\n",
    "    NGR=0\n",
    "    \n",
    "    for i in range(dt):\n",
    "        \n",
    "        #Listas de fotones transmitidos, reflejados y testigos.\n",
    "    \n",
    "        r1=random.random()\n",
    "        if r1<=P:\n",
    "            T.append(1)\n",
    "\n",
    "        else:\n",
    "            T.append(0)\n",
    "\n",
    "        r2=random.random()\n",
    "        if r2<=P:\n",
    "            R.append(1)\n",
    "\n",
    "        else:\n",
    "            R.append(0)\n",
    "\n",
    "    \n",
    "        r3=random.random()\n",
    "        if r3<=PC:\n",
    "            G.append(1)\n",
    "            NG=NG+1\n",
    "\n",
    "        else:\n",
    "            G.append(0) \n",
    "\n",
    "        # Suma de listas\n",
    "        \n",
    "        r4=random.random()\n",
    "        if r4>=0.5: \n",
    "            T[i]=T[i]+G[i]\n",
    "        else:\n",
    "            R[i]=R[i]+G[i]\n",
    "        \n",
    "        \n",
    "        if T[i] != 0:\n",
    "            NT =NT+1\n",
    "        if R[i] != 0:\n",
    "            NR =NR+1  \n",
    "            \n",
    "        #Coincidencias para 2 detectores (T y R)\n",
    "\n",
    "        if T[i]*R[i]!=0:\n",
    "            NTR=NTR+1\n",
    "        else:\n",
    "            NTR=NTR+0 \n",
    "            \n",
    "        #Coincidencias para 3 detectores (T, R y G)\n",
    "    \n",
    "        if G[i]*T[i]*R[i]!=0:\n",
    "            NGTR=NGTR+1\n",
    "        if G[i]*T[i]!=0:\n",
    "            NGT=NGT+1\n",
    "        if G[i]*R[i]!=0:\n",
    "            NGR=NGR+1 \n",
    "            \n",
    "    g2=(NTR/(NT*NR))*(1*dt)\n",
    "    g3=(NGTR/(NGT*NGR))*NG \n",
    "    \n",
    "    g2s.append(g2)\n",
    "    g3s.append(g3)\n"
   ]
  },
  {
   "cell_type": "code",
   "execution_count": 12,
   "metadata": {},
   "outputs": [
    {
     "data": {
      "image/png": "[encoded data removed]",
      "text/plain": [
       "<Figure size 432x288 with 1 Axes>"
      ]
     },
     "metadata": {},
     "output_type": "display_data"
    }
   ],
   "source": [
    "plt.plot(tiempos,g3s,\"bo\",label=\"3 detectores\",linestyle=\"-\")\n",
    "plt.plot(tiempos,g2s,\"ro\",label=\"2 detectores\",linestyle=\"-\")\n",
    "\n",
    "\n",
    "plt.xlabel(\"ventana de tiempo\")\n",
    "plt.ylabel(\"g2\")\n",
    "plt.ylim(0,1.2)\n",
    "\n",
    "plt.legend(loc=0)\n",
    "plt.grid()\n",
    "plt.savefig(\"g23\")\n",
    "plt.show()"
   ]
  },
  {
   "cell_type": "markdown",
   "metadata": {},
   "source": [
    "### Experimentos con ventana de tiempo fija"
   ]
  },
  {
   "cell_type": "code",
   "execution_count": 13,
   "metadata": {},
   "outputs": [],
   "source": [
    "#Número de experimentos\n",
    "experimentos = 200"
   ]
  },
  {
   "cell_type": "code",
   "execution_count": 14,
   "metadata": {},
   "outputs": [],
   "source": [
    "# Parámetros\n",
    "dt = 1000000\n",
    "tiempo=1/dt\n",
    "\n",
    "fotones = 50000\n",
    "nc = 5000"
   ]
  },
  {
   "cell_type": "code",
   "execution_count": 15,
   "metadata": {},
   "outputs": [
    {
     "name": "stdout",
     "output_type": "stream",
     "text": [
      "CPU times: user 6min 15s, sys: 3.05 s, total: 6min 18s\n",
      "Wall time: 6min 18s\n"
     ]
    }
   ],
   "source": [
    "%%time\n",
    "\n",
    "g3s=[]\n",
    "g2s=[]\n",
    "\n",
    "for j in range(experimentos):    \n",
    "    \n",
    "    P = fotones/dt\n",
    "    PC = nc/dt\n",
    "    \n",
    "    T=[]\n",
    "    R=[]\n",
    "    G=[]\n",
    "   \n",
    "    NT=0\n",
    "    NR=0\n",
    "    NG=0\n",
    "    NTR=0\n",
    "    NGTR=0\n",
    "    NGT=0\n",
    "    NGR=0\n",
    "    \n",
    "    for i in range(dt):\n",
    "        \n",
    "        #Listas de fotones transmitidos, reflejados y testigos.\n",
    "    \n",
    "        r1=random.random()\n",
    "        if r1<=P:\n",
    "            T.append(1)\n",
    "\n",
    "        else:\n",
    "            T.append(0)\n",
    "\n",
    "        r2=random.random()\n",
    "        if r2<=P:\n",
    "            R.append(1)\n",
    "\n",
    "        else:\n",
    "            R.append(0)\n",
    "\n",
    "    \n",
    "        r3=random.random()\n",
    "        if r3<=PC:\n",
    "            G.append(1)\n",
    "            NG=NG+1\n",
    "\n",
    "        else:\n",
    "            G.append(0) \n",
    "\n",
    "        # Suma de listas\n",
    "        \n",
    "        r4=random.random()\n",
    "        if r4>=0.5: \n",
    "            T[i]=T[i]+G[i]\n",
    "        else:\n",
    "            R[i]=R[i]+G[i]\n",
    "        \n",
    "        \n",
    "        if T[i] != 0:\n",
    "            NT =NT+1\n",
    "        if R[i] != 0:\n",
    "            NR =NR+1  \n",
    "            \n",
    "        #Coincidencias para 2 detectores (T y R)\n",
    "\n",
    "        if T[i]*R[i]!=0:\n",
    "            NTR=NTR+1\n",
    "        else:\n",
    "            NTR=NTR+0 \n",
    "            \n",
    "        #Coincidencias para 3 detectores (T, R y G)\n",
    "    \n",
    "        if G[i]*T[i]*R[i]!=0:\n",
    "            NGTR=NGTR+1\n",
    "        if G[i]*T[i]!=0:\n",
    "            NGT=NGT+1\n",
    "        if G[i]*R[i]!=0:\n",
    "            NGR=NGR+1 \n",
    "            \n",
    "    g2=(NTR/(NT*NR))*(1*dt)\n",
    "    g3=(NGTR/(NGT*NGR))*NG \n",
    "    \n",
    "    g2s.append(g2)\n",
    "    g3s.append(g3)\n"
   ]
  },
  {
   "cell_type": "markdown",
   "metadata": {},
   "source": [
    "### Datos estadísticos"
   ]
  },
  {
   "cell_type": "code",
   "execution_count": 16,
   "metadata": {},
   "outputs": [],
   "source": [
    "def promedios_paso(lista,paso):\n",
    "     \n",
    "    promedios=[]\n",
    "    for i, _ in enumerate(lista[::paso]):\n",
    "        sub_list = lista[i*10:] if (i+1)*10 > len(lista) else lista[i*10:(i+1)*10]  # Condition if the len(g3s) % step != 0\n",
    "        promedio=sum(sub_list)/float(len(sub_list))\n",
    "        promedios.append(promedio)\n",
    "    return promedios\n",
    "\n",
    "#https://stackoverflow.com/questions/39814034/how-do-i-get-the-average-of-every-10-numbers-in-list-in-python"
   ]
  },
  {
   "cell_type": "code",
   "execution_count": 17,
   "metadata": {},
   "outputs": [],
   "source": [
    "def varianza_paso(lista,paso):\n",
    "     \n",
    "    varianzas=[]\n",
    "    for i, _ in enumerate(lista[::paso]):\n",
    "        sub_list = lista[i*10:] if (i+1)*10 > len(lista) else lista[i*10:(i+1)*10] \n",
    "        varianza=np.var(sub_list)\n",
    "        varianzas.append(varianza)\n",
    "    return varianzas"
   ]
  },
  {
   "cell_type": "code",
   "execution_count": 18,
   "metadata": {},
   "outputs": [],
   "source": [
    "def ds_paso(lista,paso):\n",
    "     \n",
    "    dss=[]\n",
    "    for i, _ in enumerate(lista[::paso]):\n",
    "        sub_list = lista[i*10:] if (i+1)*10 > len(lista) else lista[i*10:(i+1)*10] \n",
    "        ds=np.std(sub_list)\n",
    "        dss.append(ds)\n",
    "    return dss"
   ]
  },
  {
   "cell_type": "code",
   "execution_count": 19,
   "metadata": {},
   "outputs": [],
   "source": [
    "promedios_paso(g3s,10);\n",
    "promedios_paso(g2s,10);\n",
    "    \n",
    "varianza_paso(g3s,10);\n",
    "varianza_paso(g2s,10);\n",
    "    \n",
    "ds_paso(g3s,10);\n",
    "ds_paso(g2s,10);          "
   ]
  },
  {
   "cell_type": "code",
   "execution_count": 20,
   "metadata": {},
   "outputs": [],
   "source": [
    "# Promedios\n",
    "\n",
    "g3_pp=np.mean(promedios_paso(g3s,10))\n",
    "g2_pp=np.mean(promedios_paso(g2s,10))\n",
    "\n",
    "\n",
    "g3_vp=np.mean(varianza_paso(g3s,10))\n",
    "g2_vp=np.mean(varianza_paso(g2s,10))\n",
    "\n",
    "g3_dsp=np.mean(ds_paso(g3s,10))\n",
    "g2_dsp=np.mean(ds_paso(g2s,10))"
   ]
  },
  {
   "cell_type": "code",
   "execution_count": 30,
   "metadata": {},
   "outputs": [],
   "source": [
    "data = {'Promedios':[\"Promedio\",\"DS\",\"Varianza\"],\n",
    "        '$g^{(2)}_{2D}$': [g2_pp, g2_dsp, g2_vp],\n",
    "        '$g^{(2)}_{3D}$':[g3_pp, g3_dsp, g3_vp]}"
   ]
  },
  {
   "cell_type": "code",
   "execution_count": 31,
   "metadata": {},
   "outputs": [
    {
     "data": {
      "text/html": [
       "<div>\n",
       "<style scoped>\n",
       "    .dataframe tbody tr th:only-of-type {\n",
       "        vertical-align: middle;\n",
       "    }\n",
       "\n",
       "    .dataframe tbody tr th {\n",
       "        vertical-align: top;\n",
       "    }\n",
       "\n",
       "    .dataframe thead th {\n",
       "        text-align: right;\n",
       "    }\n",
       "</style>\n",
       "<table border=\"1\" class=\"dataframe\">\n",
       "  <thead>\n",
       "    <tr style=\"text-align: right;\">\n",
       "      <th></th>\n",
       "      <th>Promedios</th>\n",
       "      <th>$g^{(2)}_{2D}$</th>\n",
       "      <th>$g^{(2)}_{3D}$</th>\n",
       "    </tr>\n",
       "  </thead>\n",
       "  <tbody>\n",
       "    <tr>\n",
       "      <th>0</th>\n",
       "      <td>Promedio</td>\n",
       "      <td>0.999000</td>\n",
       "      <td>0.181485</td>\n",
       "    </tr>\n",
       "    <tr>\n",
       "      <th>1</th>\n",
       "      <td>DS</td>\n",
       "      <td>0.016299</td>\n",
       "      <td>0.009234</td>\n",
       "    </tr>\n",
       "    <tr>\n",
       "      <th>2</th>\n",
       "      <td>Varianza</td>\n",
       "      <td>0.000281</td>\n",
       "      <td>0.000091</td>\n",
       "    </tr>\n",
       "  </tbody>\n",
       "</table>\n",
       "</div>"
      ],
      "text/plain": [
       "  Promedios  $g^{(2)}_{2D}$  $g^{(2)}_{3D}$\n",
       "0  Promedio        0.999000        0.181485\n",
       "1        DS        0.016299        0.009234\n",
       "2  Varianza        0.000281        0.000091"
      ]
     },
     "execution_count": 31,
     "metadata": {},
     "output_type": "execute_result"
    }
   ],
   "source": [
    "estadisticos= pd.DataFrame(data) \n",
    "estadisticos = estadisticos[['Promedios', '$g^{(2)}_{2D}$', '$g^{(2)}_{3D}$']]\n",
    "estadisticos.to_csv(\"/home/solaris/Documentos/LFC2/Programas/Programa 5/datos/estadisticos_p3.csv\")\n",
    "estadisticos\n",
    "#https://stackoverflow.com/questions/41968732/set-order-of-columns-in-pandas-dataframe"
   ]
  },
  {
   "cell_type": "code",
   "execution_count": null,
   "metadata": {},
   "outputs": [],
   "source": []
  }
 ],
 "metadata": {
  "kernelspec": {
   "display_name": "Python 3",
   "language": "python",
   "name": "python3"
  },
  "language_info": {
   "codemirror_mode": {
    "name": "ipython",
    "version": 3
   },
   "file_extension": ".py",
   "mimetype": "text/x-python",
   "name": "python",
   "nbconvert_exporter": "python",
   "pygments_lexer": "ipython3",
   "version": "3.6.9"
  }
 },
 "nbformat": 4,
 "nbformat_minor": 4
}
